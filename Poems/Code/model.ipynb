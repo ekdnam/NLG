{
  "nbformat": 4,
  "nbformat_minor": 0,
  "metadata": {
    "colab": {
      "name": "model.ipynb",
      "provenance": [],
      "collapsed_sections": []
    },
    "kernelspec": {
      "name": "python3",
      "display_name": "Python 3"
    },
    "accelerator": "GPU"
  },
  "cells": [
    {
      "cell_type": "code",
      "metadata": {
        "id": "hL2akzEpaZzK",
        "colab_type": "code",
        "colab": {
          "base_uri": "https://localhost:8080/",
          "height": 35
        },
        "outputId": "e66385cf-5a58-4fb1-9b94-a2702d58d802"
      },
      "source": [
        "import tensorflow as tf\n",
        "from google.colab import drive\n",
        "from tensorflow.keras.preprocessing.sequence import pad_sequences\n",
        "from tensorflow.keras.layers import Embedding, LSTM, Dense, Bidirectional\n",
        "from tensorflow.keras.preprocessing.text import Tokenizer\n",
        "from tensorflow.keras.models import Sequential\n",
        "from tensorflow.keras.optimizers import Adam\n",
        "import numpy as np\n",
        "import matplotlib.pyplot as plt\n",
        "print(tf.__version__)"
      ],
      "execution_count": 1,
      "outputs": [
        {
          "output_type": "stream",
          "text": [
            "2.2.0\n"
          ],
          "name": "stdout"
        }
      ]
    },
    {
      "cell_type": "code",
      "metadata": {
        "id": "tD9sLL8gdiPO",
        "colab_type": "code",
        "colab": {}
      },
      "source": [
        "# drive.mount('/content/drive')"
      ],
      "execution_count": 0,
      "outputs": []
    },
    {
      "cell_type": "code",
      "metadata": {
        "id": "JH-ZfI26amNY",
        "colab_type": "code",
        "colab": {}
      },
      "source": [
        "def preprocess_text_file():\n",
        "  file_name_base = 'poem-'\n",
        "  file_extension = '.txt'\n",
        "\n",
        "  process_name = 'processed'\n",
        "  i = 1\n",
        "  for i in range(1, self.n_poems + 1):\n",
        "    processed_poem = []\n",
        "    # get file name, file_name_format - 'kipling-1.txt'\n",
        "    read_file_name = file_name_base + str(i) + file_extension\n",
        "    file_read = open(read_file_name, 'r')\n",
        "    \n",
        "    # read file, append to a list\n",
        "    for x in file_read:\n",
        "      processed_poem.append(x)\n",
        "      \n",
        "    # close the file\n",
        "    file_read.close()\n",
        "\n",
        "    # convert to string\n",
        "    processed_poem = str(processed_poem)\n",
        "\n",
        "    # processed file name - 'processed-1.txt'    \n",
        "    write_file_name = process_name + '-' + str(i) + file_extension\n",
        "\n",
        "    file_write = open(write_file_name, 'w')\n",
        "\n",
        "    # write string to file\n",
        "    file_write.write(processed_poem)\n",
        "    file_write.close()"
      ],
      "execution_count": 0,
      "outputs": []
    },
    {
      "cell_type": "code",
      "metadata": {
        "id": "zVwnOcogj58o",
        "colab_type": "code",
        "colab": {}
      },
      "source": [
        "def get_training_data(base_file_name):\n",
        "  file_read = open(base_file_name, 'r')\n",
        "\n",
        "  data_list = []\n",
        "  for x in file_read:\n",
        "    data_list.append(x)\n",
        "\n",
        "  train_data = str(data_list)\n",
        "  return train_data"
      ],
      "execution_count": 0,
      "outputs": []
    },
    {
      "cell_type": "code",
      "metadata": {
        "id": "ci2rx9HSkZE9",
        "colab_type": "code",
        "colab": {}
      },
      "source": [
        "def alternative_get_data():\n",
        "  processed_1  = str(\"If you can keep your head when all about you \\n, Are losing theirs and blaming it on you; \\n, If you can trust yourself when all men doubt you, \\n, But make allowance for their doubting too: \\n, If you can wait and not be tired by waiting, \\n, Or, being lied about, dont deal in lies, \\n, Or being hated dont give way to hating, \\n, And yet dont look too good, nor talk too wise; \\n,  \\n, If you can dream - and not make dreams your master; \\n, If you can think - and not make thoughts your aim, \\n, If you can meet with Triumph and Disaster \\n, And treat those two impostors just the same:. \\n, If you can bear to hear the truth youve spoken \\n, Twisted by knaves to make a trap for fools, \\n, Or watch the things you gave your life to, broken, \\n, And stoop and buildem up with worn-out tools; \\n,  \\n, If you can make one heap of all your winnings \\n, And risk it on one turn of pitch-and-toss, \\n, And lose, and start again at your beginnings, \\n, And never breathe a word about your loss: \\n, If you can force your heart and nerve and sinew \\n, To serve your turn long after they are gone, \\n, And so hold on when there is nothing in you \\n, Except the Will which says to them: Hold on! \\n,  \\n, If you can talk with crowds and keep your virtue, \\n, Or walk with Kings - nor lose the common touch, \\n, If neither foes nor loving friends can hurt you, \\n, If all men count with you, but none too much: \\n, If you can fill the unforgiving minute \\n, With sixty seconds worth of distance run, \\n, Yours is the Earth and everything thats in it, \\n, And - which is more - youll be a Man, my son! \\n \")\n",
        "  processed_2 = str(\"Do not stand at my grave and weep \\n, I am not there; I do not sleep. \\n, I am a thousand winds that blow, \\n, I am the diamond glints on snow, \\n, I am the sun on ripened grain, \\n, I am the gentle autumn rain. \\n, When you awaken in the mornings hush \\n, I am the swift uplifting rush \\n, Of quiet birds in circled flight. \\n, I am the soft stars that shine at night. \\n, Do not stand at my grave and cry, \\n, I am not there; I did not die. \\n \")\n",
        "  processed_3 = str(\"Death is nothing at all. \\n, It does not count. \\n, I have only slipped away into the next room. \\n, Nothing has happened. \\n,  \\n, Everything remains exactly as it was. \\n, I am I, and you are you, \\n, and the old life that we lived so fondly together is untouched, unchanged. \\n, Whatever we were to each other, that we are still. \\n,  \\n, Call me by the old familiar name. \\n, Speak of me in the easy way which you always used. \\n, Put no difference into your tone. \\n, Wear no forced air of solemnity or sorrow. \\n,  \\n, Laugh as we always laughed at the little jokes that we enjoyed together. \\n, Play, smile, think of me, pray for me. \\n, Let my name be ever the household word that it always was. \\n, Let it be spoken without an effort, without the ghost of a shadow upon it. \\n,  \\n, Life means all that it ever meant. \\n, It is the same as it ever was. \\n, There is absolute and unbroken continuity. \\n, What is this death but a negligible accident? \\n,  \\n, Why should I be out of mind because I am out of sight? \\n, I am but waiting for you, for an interval, \\n, somewhere very near, \\n, just round the corner. \\n,  \\n, All is well. \\n, Nothing is hurt; nothing is lost. \\n, One brief moment and all will be as it was before. \\n, How we shall laugh at the trouble of parting when we meet again! \\n \")\n",
        "  processed_4 = str(\"Ah, sunflower, weary of time, \\n, Who countest the steps of the sun; \\n, Seeking after that sweet golden clime \\n, Where the travellers journey is done; \\n,  \\n, Where the Youth pined away with desire, \\n, And the pale virgin shrouded in snow, \\n, Arise from their graves, and aspire \\n, Where my Sunflower wishes to go! \")\n",
        "  processed_5 = str(\"Merry, merry sparrow! \\n, Under leaves so green \\n, A happy blossom \\n, Sees you, swift as arrow, \\n, Seek your cradle narrow, \\n, Near my bosom. \\n, Pretty, pretty robin! \\n, Under leaves so green \\n, A happy blossom \\n, Hears you sobbing, sobbing, \\n, Pretty, pretty robin, \\n, Near my bosom. \")\n",
        "  processed_6 = str(\"Bring me an axe and spade, \\n, Bring me a winding sheet; \\n, When I my grave have made, \\n, Let winds and tempests beat: \\n, Then down I lie, as cold as clay. \\n, True love doth pass away! \")\n",
        "  processed_7 = str(\"The Mercy, Pity, Peace, and Love  \\n, All pray in their distress; \\n, And to these virtues of delight \\n, Return their thankfulness. \\n,  \\n, For Mercy, Pity, Peace, and Love \\n, Is God, our Father dear, \\n, And Mercy, Pity, Peace, and Love \\n, Is man, His child and care. \\n,  \\n, For Mercy has a human heart, \\n, Pity a human face, \\n, And Love, the human form divine, \\n, And Peace, the human dress. \\n,  \\n, Then every man, of every clime, \\n, That prays in his distress, \\n, Prays to the human form divine, \\n, Love, Mercy, Pity, Peace. \\n,  \\n, For all must love the human form, \\n, In heathen, Turk, or Jew; \\n, Where Mercy, Love, and Pity dwell \\n, There God is dwelling too \")\n",
        "  processed_8 = str(\"Once a dream did weave a shade \\n, Oer my angel-guarded bed, \\n, That an emmet lost its way \\n, Where on grass methought I lay. \\n,  \\n, Troubled, wildered, and forlorn, \\n, Dark, benighted, travel-worn, \\n, Over many a tangled spray, \\n, All heart-broke, I heard her say: \\n,  \\n, O my children! do they cry, \\n, Do they hear their father sigh? \\n, Now they look abroad to see, \\n, Now return and weep for me. \\n,  \\n, Pitying, I dropped a tear: \\n, But I saw a glow-worm near, \\n, Who replied, What wailing wight \\n, Calls the watchman of the night? \\n,  \\n, I am set to light the ground, \\n, While the beetle goes his round: \\n, Follow now the beetles hum; \\n, Little wanderer, hie thee home! \")\n",
        "  processed_9 = str(\"Earth raised up her head \\n, From the darkness dread and drear, \\n, Her light fled, \\n, Stony, dread, \\n, And her locks covered with grey despair. \\n,  \\n, Prisoned on watery shore, \\n, Starry jealousy does keep my den \\n, Cold and hoar; \\n, Weeping oer, \\n, I hear the father of the ancient men. \\n,  \\n, Selfish father of men! \\n, Cruel, jealous, selfish fear! \\n, Can delight, \\n, Chained in night, \\n, The virgins of youth and morning bear. \\n,  \\n, Does spring hide its joy, \\n, When buds and blossoms grow? \\n, Does the sower \\n, Sow by night, \\n, Or the ploughman in darkness plough? \\n,  \\n, Break this heavy chain, \\n, That does freeze my bones around! \\n, Selfish, vain, \\n, Eternal bane, \\n, That free love with bondage bound. \")\n",
        "  processed_10 = str(\"Can I see anothers woe, \\n, And not be in sorrow too? \\n, Can I see anothers grief, \\n, And not seek for kind relief? \\n,  \\n, Can I see a falling tear, \\n, And not feel my sorrows share? \\n, Can a father see his child \\n, Weep, nor be with sorrow filled? \\n,  \\n, Can a mother sit and hear \\n, An infant groan, an infant fear? \\n, No, no! never can it be! \\n, Never, never can it be! \\n,  \\n, And can He who smiles on all \\n, Hear the wren with sorrows small, \\n, Hear the small birds grief and care, \\n, Hear the woes that infants bear - \\n,  \\n, And not sit beside the nest, \\n, Pouring pity in their breast, \\n, And not sit the cradle near, \\n, Weeping tear on infants tear? \\n,  \\n, And not sit both night and day, \\n, Wiping all our tears away? \\n, O no! never can it be! \\n, Never, never can it be! \\n,  \\n, He doth give His joy to all: \\n, He becomes an infant small, \\n, He becomes a man of woe, \\n, He doth feel the sorrow too. \\n,  \\n, Think not thou canst sigh a sigh, \\n, And thy Maker is not by: \\n, Think not thou canst weep a tear, \\n, And thy Maker is not near. \\n,  \\n, O He gives to us His joy, \\n, That our grief He may destroy: \\n, Till our grief is fled and gone \\n, He doth sit by us and moan. \\n, Can I see anothers woe, \\n, And not be in sorrow too? \\n, Can I see anothers grief, \\n, And not seek for kind relief? \\n,  \\n, Can I see a falling tear, \\n, And not feel my sorrows share? \\n, Can a father see his child \\n, Weep, nor be with sorrow filled? \\n,  \\n, Can a mother sit and hear \\n, An infant groan, an infant fear? \\n, No, no! never can it be! \\n, Never, never can it be! \\n,  \\n, And can He who smiles on all \\n, Hear the wren with sorrows small, \\n, Hear the small birds grief and care, \\n, Hear the woes that infants bear - \\n,  \\n, And not sit beside the nest, \\n, Pouring pity in their breast, \\n, And not sit the cradle near, \\n, Weeping tear on infants tear? \\n,  \\n, And not sit both night and day, \\n, Wiping all our tears away? \\n, O no! never can it be! \\n, Never, never can it be! \\n,  \\n, He doth give His joy to all: \\n, He becomes an infant small, \\n, He becomes a man of woe, \\n, He doth feel the sorrow too. \\n,  \\n, Think not thou canst sigh a sigh, \\n, And thy Maker is not by: \\n, Think not thou canst weep a tear, \\n, And thy Maker is not near. \\n,  \\n, O He gives to us His joy, \\n, That our grief He may destroy: \\n, Till our grief is fled and gone \\n, He doth sit by us and moan. \")\n",
        "  train_data = processed_1 + processed_2 + processed_3 + processed_4 + processed_5 + processed_6 + processed_7 + processed_8 + processed_9 + processed_10 \n",
        "  return train_data"
      ],
      "execution_count": 0,
      "outputs": []
    },
    {
      "cell_type": "code",
      "metadata": {
        "id": "oE-s7N1ZmKOU",
        "colab_type": "code",
        "colab": {}
      },
      "source": [
        "def preprocess_training_data(train_data):\n",
        "  tokenizer = Tokenizer()\n",
        "\n",
        "  corpus = train_data.lower().split(\"\\n\")\n",
        "  tokenizer.fit_on_texts(corpus)\n",
        "  total_words = len(tokenizer.word_index) + 1\n",
        "\n",
        "  input_sequences = []\n",
        "\n",
        "  for line in corpus:\n",
        "    token_list = tokenizer.texts_to_sequences([line])[0]\n",
        "    for i in range(1, len(token_list)):\n",
        "      n_gram_sequence = token_list[:i+1]\n",
        "      input_sequences.append(n_gram_sequence)\n",
        "\n",
        "  # pad sequences\n",
        "  max_sequence_len = max([len(x) for x in input_sequences])\n",
        "  input_sequences = np.array(pad_sequences(input_sequences, maxlen = max_sequence_len, padding = 'pre'))\n",
        "  return input_sequences, max_sequence_len, total_words, tokenizer"
      ],
      "execution_count": 0,
      "outputs": []
    },
    {
      "cell_type": "code",
      "metadata": {
        "id": "L49TqYVgoP89",
        "colab_type": "code",
        "colab": {}
      },
      "source": [
        "def create_predictors(input_sequences, total_words):\n",
        "  xs, labels = input_sequences[:,:-1], input_sequences[:,-1]\n",
        "    \n",
        "  ys = tf.keras.utils.to_categorical(labels, num_classes = total_words)\n",
        "  return xs, ys, labels"
      ],
      "execution_count": 0,
      "outputs": []
    },
    {
      "cell_type": "code",
      "metadata": {
        "id": "7q-ysd69oXDG",
        "colab_type": "code",
        "colab": {}
      },
      "source": [
        "def create_model(max_sequence_len, total_words):\n",
        "  model = Sequential()\n",
        "  model.add(Embedding(total_words, 100, input_length=max_sequence_len-1))\n",
        "  model.add(Bidirectional(LSTM(150)))\n",
        "  model.add(Dense(total_words, activation='softmax'))\n",
        "  adam = Adam(lr=0.01)\n",
        "  model.compile(loss='categorical_crossentropy', optimizer=adam, metrics=['accuracy'])\n",
        "  print(model.summary())\n",
        "  return model\n",
        "\n",
        "  \n",
        "def run_model(xs, ys, model, epochs = 20):\n",
        "  history = model.fit(xs, ys, epochs = epochs, verbose=1)\n",
        "  return history\n",
        "\n",
        "  \n",
        "def plot_graphs(history, string):\n",
        "  plt.plot(history.history[string])\n",
        "  plt.xlabel(\"Epochs\")\n",
        "  plt.ylabel(string)\n",
        "  plt.show()\n",
        "\n",
        "def predict_poem(seed_text, next_words, model, tokenizer):\n",
        "  for _ in range(next_words):\n",
        "\t  token_list = tokenizer.texts_to_sequences([seed_text])[0]\n",
        "\t  token_list = pad_sequences([token_list], maxlen=max_sequence_len-1, padding='pre')\n",
        "\t  predicted = model.predict_classes(token_list, verbose=0)\n",
        "\t  output_word = \"\"\n",
        "\t  for word, index in tokenizer.word_index.items():\n",
        "\t\t  if index == predicted:\n",
        "\t\t\t  output_word = word\n",
        "\t\t\t  break\n",
        "\t  seed_text += \" \" + output_word\n",
        "  print(seed_text)"
      ],
      "execution_count": 0,
      "outputs": []
    },
    {
      "cell_type": "code",
      "metadata": {
        "id": "dbuHphFNoevr",
        "colab_type": "code",
        "colab": {}
      },
      "source": [
        "train_data = alternative_get_data()\n",
        "\n",
        "input_sequences, max_sequence_len, total_words, tokenizer  = preprocess_training_data(train_data)"
      ],
      "execution_count": 0,
      "outputs": []
    },
    {
      "cell_type": "code",
      "metadata": {
        "id": "pHAXPSZ4p-fa",
        "colab_type": "code",
        "colab": {}
      },
      "source": [
        "xs, ys, labels = create_predictors(input_sequences, total_words)"
      ],
      "execution_count": 0,
      "outputs": []
    },
    {
      "cell_type": "code",
      "metadata": {
        "id": "j4xs4kgcqQEn",
        "colab_type": "code",
        "colab": {
          "base_uri": "https://localhost:8080/",
          "height": 277
        },
        "outputId": "0b76b2df-8e6a-4ba1-d84d-e7d3c62caeea"
      },
      "source": [
        "model = create_model(max_sequence_len, total_words)"
      ],
      "execution_count": 10,
      "outputs": [
        {
          "output_type": "stream",
          "text": [
            "Model: \"sequential\"\n",
            "_________________________________________________________________\n",
            "Layer (type)                 Output Shape              Param #   \n",
            "=================================================================\n",
            "embedding (Embedding)        (None, 14, 100)           51700     \n",
            "_________________________________________________________________\n",
            "bidirectional (Bidirectional (None, 300)               301200    \n",
            "_________________________________________________________________\n",
            "dense (Dense)                (None, 517)               155617    \n",
            "=================================================================\n",
            "Total params: 508,517\n",
            "Trainable params: 508,517\n",
            "Non-trainable params: 0\n",
            "_________________________________________________________________\n",
            "None\n"
          ],
          "name": "stdout"
        }
      ]
    },
    {
      "cell_type": "code",
      "metadata": {
        "id": "9y-3d1leqfSK",
        "colab_type": "code",
        "colab": {
          "base_uri": "https://localhost:8080/",
          "height": 711
        },
        "outputId": "8d7b1a01-bee8-4d09-ce29-8d90972c0118"
      },
      "source": [
        "history = run_model(xs, ys, model)"
      ],
      "execution_count": 11,
      "outputs": [
        {
          "output_type": "stream",
          "text": [
            "Epoch 1/20\n",
            "40/40 [==============================] - 1s 15ms/step - loss: 5.9617 - accuracy: 0.0292\n",
            "Epoch 2/20\n",
            "40/40 [==============================] - 1s 15ms/step - loss: 5.1183 - accuracy: 0.0963\n",
            "Epoch 3/20\n",
            "40/40 [==============================] - 1s 15ms/step - loss: 3.8262 - accuracy: 0.2526\n",
            "Epoch 4/20\n",
            "40/40 [==============================] - 1s 15ms/step - loss: 2.5559 - accuracy: 0.4207\n",
            "Epoch 5/20\n",
            "40/40 [==============================] - 1s 15ms/step - loss: 1.5483 - accuracy: 0.6085\n",
            "Epoch 6/20\n",
            "40/40 [==============================] - 1s 15ms/step - loss: 0.9038 - accuracy: 0.7774\n",
            "Epoch 7/20\n",
            "40/40 [==============================] - 1s 15ms/step - loss: 0.6077 - accuracy: 0.8556\n",
            "Epoch 8/20\n",
            "40/40 [==============================] - 1s 15ms/step - loss: 0.4866 - accuracy: 0.8650\n",
            "Epoch 9/20\n",
            "40/40 [==============================] - 1s 15ms/step - loss: 0.4255 - accuracy: 0.8777\n",
            "Epoch 10/20\n",
            "40/40 [==============================] - 1s 15ms/step - loss: 0.3772 - accuracy: 0.8816\n",
            "Epoch 11/20\n",
            "40/40 [==============================] - 1s 15ms/step - loss: 0.3530 - accuracy: 0.8816\n",
            "Epoch 12/20\n",
            "40/40 [==============================] - 1s 15ms/step - loss: 0.3450 - accuracy: 0.8863\n",
            "Epoch 13/20\n",
            "40/40 [==============================] - 1s 15ms/step - loss: 0.3333 - accuracy: 0.8895\n",
            "Epoch 14/20\n",
            "40/40 [==============================] - 1s 15ms/step - loss: 0.3465 - accuracy: 0.8848\n",
            "Epoch 15/20\n",
            "40/40 [==============================] - 1s 15ms/step - loss: 0.3307 - accuracy: 0.8800\n",
            "Epoch 16/20\n",
            "40/40 [==============================] - 1s 15ms/step - loss: 0.3212 - accuracy: 0.8848\n",
            "Epoch 17/20\n",
            "40/40 [==============================] - 1s 15ms/step - loss: 0.3261 - accuracy: 0.8848\n",
            "Epoch 18/20\n",
            "40/40 [==============================] - 1s 15ms/step - loss: 0.3249 - accuracy: 0.8840\n",
            "Epoch 19/20\n",
            "40/40 [==============================] - 1s 15ms/step - loss: 0.3033 - accuracy: 0.8887\n",
            "Epoch 20/20\n",
            "40/40 [==============================] - 1s 15ms/step - loss: 0.3131 - accuracy: 0.8848\n"
          ],
          "name": "stdout"
        }
      ]
    },
    {
      "cell_type": "code",
      "metadata": {
        "id": "VnVzOXZgqsrt",
        "colab_type": "code",
        "colab": {
          "base_uri": "https://localhost:8080/",
          "height": 35
        },
        "outputId": "00418cb6-8657-4d50-9b68-6ba40cde644e"
      },
      "source": [
        "predict_poem('Life', 20, model, tokenizer)"
      ],
      "execution_count": 27,
      "outputs": [
        {
          "output_type": "stream",
          "text": [
            "Life means all that it ever meant meant count with you but none too much too much too we are still\n"
          ],
          "name": "stdout"
        }
      ]
    },
    {
      "cell_type": "code",
      "metadata": {
        "id": "fRsfrANcskyK",
        "colab_type": "code",
        "colab": {
          "base_uri": "https://localhost:8080/",
          "height": 1000
        },
        "outputId": "b3164767-7bbd-4389-c810-3924394a0a26"
      },
      "source": [
        "# create model\n",
        "model_doubleLSTM = Sequential()\n",
        "model_doubleLSTM.add(Embedding(total_words, 100, input_length=max_sequence_len-1))\n",
        "model_doubleLSTM.add(Bidirectional(LSTM(150, return_sequences = True)))\n",
        "model_doubleLSTM.add(Bidirectional(LSTM(50)))#model_doubleLSTM.add(Dense(total_words, activation='softmax'))\n",
        "model_doubleLSTM.add(Dense(total_words, activation='softmax'))\n",
        "adam = Adam(lr=0.01)\n",
        "model_doubleLSTM.compile(loss='categorical_crossentropy', optimizer=adam, metrics=['accuracy'])\n",
        "print(model_doubleLSTM.summary())\n",
        "# return model\n",
        "\n",
        "  \n",
        "# def run_model(xs, ys, model, epochs = 20):\n",
        "history = model_doubleLSTM.fit(xs, ys, epochs = 30, verbose=1)\n",
        "#return history"
      ],
      "execution_count": 18,
      "outputs": [
        {
          "output_type": "stream",
          "text": [
            "Model: \"sequential_3\"\n",
            "_________________________________________________________________\n",
            "Layer (type)                 Output Shape              Param #   \n",
            "=================================================================\n",
            "embedding_3 (Embedding)      (None, 14, 100)           51700     \n",
            "_________________________________________________________________\n",
            "bidirectional_3 (Bidirection (None, 14, 300)           301200    \n",
            "_________________________________________________________________\n",
            "bidirectional_4 (Bidirection (None, 100)               140400    \n",
            "_________________________________________________________________\n",
            "dense_1 (Dense)              (None, 517)               52217     \n",
            "=================================================================\n",
            "Total params: 545,517\n",
            "Trainable params: 545,517\n",
            "Non-trainable params: 0\n",
            "_________________________________________________________________\n",
            "None\n",
            "Epoch 1/30\n",
            "40/40 [==============================] - 1s 25ms/step - loss: 6.0038 - accuracy: 0.0324\n",
            "Epoch 2/30\n",
            "40/40 [==============================] - 1s 25ms/step - loss: 5.4940 - accuracy: 0.0403\n",
            "Epoch 3/30\n",
            "40/40 [==============================] - 1s 26ms/step - loss: 5.3007 - accuracy: 0.0497\n",
            "Epoch 4/30\n",
            "40/40 [==============================] - 1s 25ms/step - loss: 5.0314 - accuracy: 0.0726\n",
            "Epoch 5/30\n",
            "40/40 [==============================] - 1s 26ms/step - loss: 4.8439 - accuracy: 0.0829\n",
            "Epoch 6/30\n",
            "40/40 [==============================] - 1s 26ms/step - loss: 4.5621 - accuracy: 0.1081\n",
            "Epoch 7/30\n",
            "40/40 [==============================] - 1s 25ms/step - loss: 4.3082 - accuracy: 0.1492\n",
            "Epoch 8/30\n",
            "40/40 [==============================] - 1s 25ms/step - loss: 4.1161 - accuracy: 0.1871\n",
            "Epoch 9/30\n",
            "40/40 [==============================] - 1s 25ms/step - loss: 3.8710 - accuracy: 0.2163\n",
            "Epoch 10/30\n",
            "40/40 [==============================] - 1s 25ms/step - loss: 3.6727 - accuracy: 0.2289\n",
            "Epoch 11/30\n",
            "40/40 [==============================] - 1s 25ms/step - loss: 3.5597 - accuracy: 0.2526\n",
            "Epoch 12/30\n",
            "40/40 [==============================] - 1s 26ms/step - loss: 3.5233 - accuracy: 0.2605\n",
            "Epoch 13/30\n",
            "40/40 [==============================] - 1s 25ms/step - loss: 3.3846 - accuracy: 0.2865\n",
            "Epoch 14/30\n",
            "40/40 [==============================] - 1s 25ms/step - loss: 3.1461 - accuracy: 0.3102\n",
            "Epoch 15/30\n",
            "40/40 [==============================] - 1s 25ms/step - loss: 2.9082 - accuracy: 0.3481\n",
            "Epoch 16/30\n",
            "40/40 [==============================] - 1s 25ms/step - loss: 2.7133 - accuracy: 0.3694\n",
            "Epoch 17/30\n",
            "40/40 [==============================] - 1s 25ms/step - loss: 2.6180 - accuracy: 0.3836\n",
            "Epoch 18/30\n",
            "40/40 [==============================] - 1s 25ms/step - loss: 2.4331 - accuracy: 0.4033\n",
            "Epoch 19/30\n",
            "40/40 [==============================] - 1s 25ms/step - loss: 2.2534 - accuracy: 0.4396\n",
            "Epoch 20/30\n",
            "40/40 [==============================] - 1s 25ms/step - loss: 2.0980 - accuracy: 0.4791\n",
            "Epoch 21/30\n",
            "40/40 [==============================] - 1s 25ms/step - loss: 1.9823 - accuracy: 0.4980\n",
            "Epoch 22/30\n",
            "40/40 [==============================] - 1s 25ms/step - loss: 1.8505 - accuracy: 0.5272\n",
            "Epoch 23/30\n",
            "40/40 [==============================] - 1s 26ms/step - loss: 1.7262 - accuracy: 0.5501\n",
            "Epoch 24/30\n",
            "40/40 [==============================] - 1s 25ms/step - loss: 1.6285 - accuracy: 0.5699\n",
            "Epoch 25/30\n",
            "40/40 [==============================] - 1s 25ms/step - loss: 1.5576 - accuracy: 0.5975\n",
            "Epoch 26/30\n",
            "40/40 [==============================] - 1s 25ms/step - loss: 1.5638 - accuracy: 0.5983\n",
            "Epoch 27/30\n",
            "40/40 [==============================] - 1s 25ms/step - loss: 1.4439 - accuracy: 0.6164\n",
            "Epoch 28/30\n",
            "40/40 [==============================] - 1s 25ms/step - loss: 1.3683 - accuracy: 0.6290\n",
            "Epoch 29/30\n",
            "40/40 [==============================] - 1s 26ms/step - loss: 1.2888 - accuracy: 0.6590\n",
            "Epoch 30/30\n",
            "40/40 [==============================] - 1s 25ms/step - loss: 1.1936 - accuracy: 0.6677\n"
          ],
          "name": "stdout"
        }
      ]
    },
    {
      "cell_type": "code",
      "metadata": {
        "id": "iyZ_MCAxyTS5",
        "colab_type": "code",
        "colab": {
          "base_uri": "https://localhost:8080/",
          "height": 35
        },
        "outputId": "c38f375c-b7d5-4ea7-d104-d686e69d8858"
      },
      "source": [
        "predict_poem('Life', 20, model_doubleLSTM, tokenizer)"
      ],
      "execution_count": 30,
      "outputs": [
        {
          "output_type": "stream",
          "text": [
            "Life means all that it ever meant the human form divine sorrow filled to each other that it always was virgin\n"
          ],
          "name": "stdout"
        }
      ]
    },
    {
      "cell_type": "code",
      "metadata": {
        "id": "U_BFwujT7QqH",
        "colab_type": "code",
        "colab": {
          "base_uri": "https://localhost:8080/",
          "height": 693
        },
        "outputId": "85837e31-c48b-4f8e-d5e3-3f7c9e3a7230"
      },
      "source": [
        "# create model\n",
        "model_2 = Sequential()\n",
        "model_2.add(Embedding(total_words, 100, input_length=max_sequence_len-1))\n",
        "model_2.add(Bidirectional(LSTM(150, return_sequences = True)))\n",
        "model_2.add(Bidirectional(LSTM(50)))\n",
        "model_2.add(Dense(512, activation='relu'))\n",
        "model_2.add(Dense(total_words, activation='softmax'))\n",
        "adam = Adam(lr=0.01)\n",
        "model_2.compile(loss='categorical_crossentropy', optimizer=adam, metrics=['accuracy'])\n",
        "print(model_2.summary())\n",
        "# return model\n",
        "\n",
        "  \n",
        "# def run_model(xs, ys, model, epochs = 20):\n",
        "history = model_doubleLSTM.fit(xs, ys, epochs = 10, verbose=1)\n",
        "#return history"
      ],
      "execution_count": 37,
      "outputs": [
        {
          "output_type": "stream",
          "text": [
            "Model: \"sequential_8\"\n",
            "_________________________________________________________________\n",
            "Layer (type)                 Output Shape              Param #   \n",
            "=================================================================\n",
            "embedding_8 (Embedding)      (None, 14, 100)           51700     \n",
            "_________________________________________________________________\n",
            "bidirectional_10 (Bidirectio (None, 14, 300)           301200    \n",
            "_________________________________________________________________\n",
            "bidirectional_11 (Bidirectio (None, 100)               140400    \n",
            "_________________________________________________________________\n",
            "dense_10 (Dense)             (None, 512)               51712     \n",
            "_________________________________________________________________\n",
            "dense_11 (Dense)             (None, 517)               265221    \n",
            "=================================================================\n",
            "Total params: 810,233\n",
            "Trainable params: 810,233\n",
            "Non-trainable params: 0\n",
            "_________________________________________________________________\n",
            "None\n",
            "Epoch 1/10\n",
            "40/40 [==============================] - 1s 25ms/step - loss: 0.2544 - accuracy: 0.8832\n",
            "Epoch 2/10\n",
            "40/40 [==============================] - 1s 25ms/step - loss: 0.2594 - accuracy: 0.8911\n",
            "Epoch 3/10\n",
            "40/40 [==============================] - 1s 25ms/step - loss: 0.2537 - accuracy: 0.8927\n",
            "Epoch 4/10\n",
            "40/40 [==============================] - 1s 26ms/step - loss: 0.2549 - accuracy: 0.8919\n",
            "Epoch 5/10\n",
            "40/40 [==============================] - 1s 25ms/step - loss: 0.2556 - accuracy: 0.8863\n",
            "Epoch 6/10\n",
            "40/40 [==============================] - 1s 25ms/step - loss: 0.2525 - accuracy: 0.8919\n",
            "Epoch 7/10\n",
            "40/40 [==============================] - 1s 25ms/step - loss: 0.2564 - accuracy: 0.8895\n",
            "Epoch 8/10\n",
            "40/40 [==============================] - 1s 25ms/step - loss: 0.2569 - accuracy: 0.8895\n",
            "Epoch 9/10\n",
            "40/40 [==============================] - 1s 25ms/step - loss: 0.2538 - accuracy: 0.8871\n",
            "Epoch 10/10\n",
            "40/40 [==============================] - 1s 25ms/step - loss: 0.2542 - accuracy: 0.8808\n"
          ],
          "name": "stdout"
        }
      ]
    },
    {
      "cell_type": "code",
      "metadata": {
        "id": "CONYc9pc8Wkw",
        "colab_type": "code",
        "colab": {
          "base_uri": "https://localhost:8080/",
          "height": 55
        },
        "outputId": "d4821b2c-e2d8-44d3-de9b-7397b9b87e2f"
      },
      "source": [
        "predict_poem('The world', 20, model_2, tokenizer)"
      ],
      "execution_count": 38,
      "outputs": [
        {
          "output_type": "stream",
          "text": [
            "The world watch weary broken prisoned prisoned prisoned prisoned prisoned blossoms cry sixty divine divine divine sixty sixty sixty divine divine thankfulness\n"
          ],
          "name": "stdout"
        }
      ]
    },
    {
      "cell_type": "code",
      "metadata": {
        "id": "cH54S76G8l6i",
        "colab_type": "code",
        "colab": {}
      },
      "source": [
        ""
      ],
      "execution_count": 0,
      "outputs": []
    }
  ]
}